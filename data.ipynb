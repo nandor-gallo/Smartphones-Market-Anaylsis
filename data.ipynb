{
 "cells": [
  {
   "cell_type": "code",
   "execution_count": 2,
   "id": "d7d9c1c7",
   "metadata": {},
   "outputs": [],
   "source": [
    "import pandas as pd\n",
    "import numpy as np\n",
    "\n"
   ]
  },
  {
   "cell_type": "code",
   "execution_count": 3,
   "id": "f329f0fc",
   "metadata": {},
   "outputs": [
    {
     "data": {
      "text/html": [
       "<div>\n",
       "<style scoped>\n",
       "    .dataframe tbody tr th:only-of-type {\n",
       "        vertical-align: middle;\n",
       "    }\n",
       "\n",
       "    .dataframe tbody tr th {\n",
       "        vertical-align: top;\n",
       "    }\n",
       "\n",
       "    .dataframe thead th {\n",
       "        text-align: right;\n",
       "    }\n",
       "</style>\n",
       "<table border=\"1\" class=\"dataframe\">\n",
       "  <thead>\n",
       "    <tr style=\"text-align: right;\">\n",
       "      <th></th>\n",
       "      <th>Name</th>\n",
       "      <th>Age</th>\n",
       "      <th>Birthday</th>\n",
       "    </tr>\n",
       "  </thead>\n",
       "  <tbody>\n",
       "    <tr>\n",
       "      <th>0</th>\n",
       "      <td>John</td>\n",
       "      <td>28</td>\n",
       "      <td>1995-05-15</td>\n",
       "    </tr>\n",
       "    <tr>\n",
       "      <th>1</th>\n",
       "      <td>Jane</td>\n",
       "      <td>34</td>\n",
       "      <td>1989-08-22</td>\n",
       "    </tr>\n",
       "    <tr>\n",
       "      <th>2</th>\n",
       "      <td>Doe</td>\n",
       "      <td>45</td>\n",
       "      <td>1978-12-01</td>\n",
       "    </tr>\n",
       "  </tbody>\n",
       "</table>\n",
       "</div>"
      ],
      "text/plain": [
       "   Name  Age    Birthday\n",
       "0  John   28  1995-05-15\n",
       "1  Jane   34  1989-08-22\n",
       "2   Doe   45  1978-12-01"
      ]
     },
     "metadata": {},
     "output_type": "display_data"
    }
   ],
   "source": [
    "from IPython.display import display\n",
    "\n",
    "# Create a new dataset\n",
    "new_dataset = pd.DataFrame({\n",
    "    'Name': ['John', 'Jane', 'Doe'],\n",
    "    'Age': [28, 34, 45],\n",
    "    'Birthday': ['1995-05-15', '1989-08-22', '1978-12-01']\n",
    "})\n",
    "\n",
    "# Print the dataset\n",
    "# Display the dataset in a table\n",
    "display(new_dataset)\n",
    "\n"
   ]
  },
  {
   "cell_type": "code",
   "execution_count": 4,
   "id": "b0407ab7",
   "metadata": {},
   "outputs": [
    {
     "name": "stdout",
     "output_type": "stream",
     "text": [
      "   Name  Age    Birthday\n",
      "0  John   28  1995-05-15\n",
      "1  Jane   34  1989-08-22\n",
      "2   Doe   45  1978-12-01\n"
     ]
    }
   ],
   "source": [
    "print(new_dataset)"
   ]
  },
  {
   "cell_type": "code",
   "execution_count": 5,
   "id": "cd21a12d",
   "metadata": {},
   "outputs": [
    {
     "name": "stdout",
     "output_type": "stream",
     "text": [
      "John's age is 46\n"
     ]
    }
   ],
   "source": [
    "from datetime import datetime\n",
    "\n",
    "# Calculate John's age\n",
    "john_birthday = datetime.strptime('1978-12-01', '%Y-%m-%d')\n",
    "current_date = datetime.now()\n",
    "john_age = current_date.year - john_birthday.year - ((current_date.month, current_date.day) < (john_birthday.month, john_birthday.day))\n",
    "\n",
    "print(f\"John's age is {john_age}\")"
   ]
  },
  {
   "cell_type": "code",
   "execution_count": 6,
   "id": "97c0ee19",
   "metadata": {},
   "outputs": [
    {
     "name": "stderr",
     "output_type": "stream",
     "text": [
      "/Users/admin/Documents/Projects/.venv/lib/python3.9/site-packages/urllib3/__init__.py:35: NotOpenSSLWarning: urllib3 v2 only supports OpenSSL 1.1.1+, currently the 'ssl' module is compiled with 'LibreSSL 2.8.3'. See: https://github.com/urllib3/urllib3/issues/3020\n",
      "  warnings.warn(\n",
      "/Users/admin/Documents/Projects/.venv/lib/python3.9/site-packages/tqdm/auto.py:21: TqdmWarning: IProgress not found. Please update jupyter and ipywidgets. See https://ipywidgets.readthedocs.io/en/stable/user_install.html\n",
      "  from .autonotebook import tqdm as notebook_tqdm\n"
     ]
    },
    {
     "name": "stdout",
     "output_type": "stream",
     "text": [
      "Path to dataset files: /Users/admin/.cache/kagglehub/datasets/amansingh0000000/smartphones/versions/1\n"
     ]
    }
   ],
   "source": [
    "import kagglehub\n",
    "\n",
    "# Download latest version\n",
    "path = kagglehub.dataset_download(\"amansingh0000000/smartphones\")\n",
    "\n",
    "print(\"Path to dataset files:\", path)\n",
    "\n"
   ]
  },
  {
   "cell_type": "code",
   "execution_count": 15,
   "id": "53aa9e94",
   "metadata": {},
   "outputs": [
    {
     "data": {
      "text/html": [
       "<div>\n",
       "<style scoped>\n",
       "    .dataframe tbody tr th:only-of-type {\n",
       "        vertical-align: middle;\n",
       "    }\n",
       "\n",
       "    .dataframe tbody tr th {\n",
       "        vertical-align: top;\n",
       "    }\n",
       "\n",
       "    .dataframe thead th {\n",
       "        text-align: right;\n",
       "    }\n",
       "</style>\n",
       "<table border=\"1\" class=\"dataframe\">\n",
       "  <thead>\n",
       "    <tr style=\"text-align: right;\">\n",
       "      <th></th>\n",
       "      <th>Brand</th>\n",
       "      <th>Model</th>\n",
       "      <th>Price (USD)</th>\n",
       "      <th>Selling Platform</th>\n",
       "      <th>Rating</th>\n",
       "      <th>Refresh Rate (Hz)</th>\n",
       "      <th>Screen Size (inches)</th>\n",
       "      <th>RAM (GB)</th>\n",
       "      <th>Storage (GB)</th>\n",
       "      <th>Processor</th>\n",
       "      <th>Camera Setup</th>\n",
       "    </tr>\n",
       "  </thead>\n",
       "  <tbody>\n",
       "    <tr>\n",
       "      <th>0</th>\n",
       "      <td>OnePlus</td>\n",
       "      <td>Narzo Edge 16</td>\n",
       "      <td>1286.64</td>\n",
       "      <td>Best Buy</td>\n",
       "      <td>3.5</td>\n",
       "      <td>165</td>\n",
       "      <td>7.2</td>\n",
       "      <td>16</td>\n",
       "      <td>128</td>\n",
       "      <td>Snapdragon 8+ Gen 1</td>\n",
       "      <td>12MP + 16MP + 5MP</td>\n",
       "    </tr>\n",
       "    <tr>\n",
       "      <th>1</th>\n",
       "      <td>Sony</td>\n",
       "      <td>Pixel Max 24</td>\n",
       "      <td>728.52</td>\n",
       "      <td>eBay</td>\n",
       "      <td>4.6</td>\n",
       "      <td>90</td>\n",
       "      <td>6.1</td>\n",
       "      <td>4</td>\n",
       "      <td>64</td>\n",
       "      <td>Dimensity 920</td>\n",
       "      <td>48MP + 8MP + 5MP</td>\n",
       "    </tr>\n",
       "    <tr>\n",
       "      <th>2</th>\n",
       "      <td>Samsung</td>\n",
       "      <td>Reno Plus 23</td>\n",
       "      <td>1086.68</td>\n",
       "      <td>Official Store</td>\n",
       "      <td>3.4</td>\n",
       "      <td>60</td>\n",
       "      <td>6.2</td>\n",
       "      <td>12</td>\n",
       "      <td>64</td>\n",
       "      <td>Exynos 2200</td>\n",
       "      <td>200MP + 12MP + 8MP</td>\n",
       "    </tr>\n",
       "    <tr>\n",
       "      <th>3</th>\n",
       "      <td>Apple</td>\n",
       "      <td>Redmi Note Mini 16</td>\n",
       "      <td>1158.78</td>\n",
       "      <td>Official Store</td>\n",
       "      <td>3.5</td>\n",
       "      <td>120</td>\n",
       "      <td>7.1</td>\n",
       "      <td>6</td>\n",
       "      <td>128</td>\n",
       "      <td>A16 Bionic</td>\n",
       "      <td>50MP + 50MP + 2MP</td>\n",
       "    </tr>\n",
       "    <tr>\n",
       "      <th>4</th>\n",
       "      <td>Vivo</td>\n",
       "      <td>P Series Edge 13</td>\n",
       "      <td>1656.05</td>\n",
       "      <td>Reliance Digital</td>\n",
       "      <td>4.9</td>\n",
       "      <td>165</td>\n",
       "      <td>6.1</td>\n",
       "      <td>8</td>\n",
       "      <td>512</td>\n",
       "      <td>Helio G99</td>\n",
       "      <td>64MP + 50MP + 8MP</td>\n",
       "    </tr>\n",
       "    <tr>\n",
       "      <th>5</th>\n",
       "      <td>Vivo</td>\n",
       "      <td>P Series 5G 19</td>\n",
       "      <td>390.46</td>\n",
       "      <td>Best Buy</td>\n",
       "      <td>4.4</td>\n",
       "      <td>165</td>\n",
       "      <td>6.5</td>\n",
       "      <td>12</td>\n",
       "      <td>512</td>\n",
       "      <td>Dimensity 920</td>\n",
       "      <td>48MP + 50MP + 8MP</td>\n",
       "    </tr>\n",
       "    <tr>\n",
       "      <th>6</th>\n",
       "      <td>Sony</td>\n",
       "      <td>Galaxy S Ultra 22</td>\n",
       "      <td>1172.46</td>\n",
       "      <td>Best Buy</td>\n",
       "      <td>3.2</td>\n",
       "      <td>120</td>\n",
       "      <td>6.5</td>\n",
       "      <td>8</td>\n",
       "      <td>256</td>\n",
       "      <td>Dimensity 920</td>\n",
       "      <td>12MP + 8MP + 2MP</td>\n",
       "    </tr>\n",
       "    <tr>\n",
       "      <th>7</th>\n",
       "      <td>Apple</td>\n",
       "      <td>Reno Pro 20</td>\n",
       "      <td>1770.77</td>\n",
       "      <td>Amazon</td>\n",
       "      <td>3.3</td>\n",
       "      <td>165</td>\n",
       "      <td>5.5</td>\n",
       "      <td>8</td>\n",
       "      <td>1024</td>\n",
       "      <td>A16 Bionic</td>\n",
       "      <td>12MP + 12MP + 2MP</td>\n",
       "    </tr>\n",
       "    <tr>\n",
       "      <th>8</th>\n",
       "      <td>Nokia</td>\n",
       "      <td>Xperia Ultra 19</td>\n",
       "      <td>492.29</td>\n",
       "      <td>Amazon</td>\n",
       "      <td>3.7</td>\n",
       "      <td>90</td>\n",
       "      <td>7.4</td>\n",
       "      <td>4</td>\n",
       "      <td>256</td>\n",
       "      <td>Helio G99</td>\n",
       "      <td>12MP + 12MP + 2MP</td>\n",
       "    </tr>\n",
       "    <tr>\n",
       "      <th>9</th>\n",
       "      <td>Realme</td>\n",
       "      <td>P Series Mini 19</td>\n",
       "      <td>730.09</td>\n",
       "      <td>eBay</td>\n",
       "      <td>4.2</td>\n",
       "      <td>144</td>\n",
       "      <td>6.1</td>\n",
       "      <td>16</td>\n",
       "      <td>128</td>\n",
       "      <td>Dimensity 920</td>\n",
       "      <td>50MP + 12MP + 5MP</td>\n",
       "    </tr>\n",
       "  </tbody>\n",
       "</table>\n",
       "</div>"
      ],
      "text/plain": [
       "     Brand               Model  Price (USD)  Selling Platform  Rating  \\\n",
       "0  OnePlus       Narzo Edge 16      1286.64          Best Buy     3.5   \n",
       "1     Sony        Pixel Max 24       728.52              eBay     4.6   \n",
       "2  Samsung        Reno Plus 23      1086.68    Official Store     3.4   \n",
       "3    Apple  Redmi Note Mini 16      1158.78    Official Store     3.5   \n",
       "4     Vivo    P Series Edge 13      1656.05  Reliance Digital     4.9   \n",
       "5     Vivo      P Series 5G 19       390.46          Best Buy     4.4   \n",
       "6     Sony   Galaxy S Ultra 22      1172.46          Best Buy     3.2   \n",
       "7    Apple         Reno Pro 20      1770.77            Amazon     3.3   \n",
       "8    Nokia     Xperia Ultra 19       492.29            Amazon     3.7   \n",
       "9   Realme    P Series Mini 19       730.09              eBay     4.2   \n",
       "\n",
       "   Refresh Rate (Hz)  Screen Size (inches)  RAM (GB)  Storage (GB)  \\\n",
       "0                165                   7.2        16           128   \n",
       "1                 90                   6.1         4            64   \n",
       "2                 60                   6.2        12            64   \n",
       "3                120                   7.1         6           128   \n",
       "4                165                   6.1         8           512   \n",
       "5                165                   6.5        12           512   \n",
       "6                120                   6.5         8           256   \n",
       "7                165                   5.5         8          1024   \n",
       "8                 90                   7.4         4           256   \n",
       "9                144                   6.1        16           128   \n",
       "\n",
       "             Processor        Camera Setup  \n",
       "0  Snapdragon 8+ Gen 1   12MP + 16MP + 5MP  \n",
       "1        Dimensity 920    48MP + 8MP + 5MP  \n",
       "2          Exynos 2200  200MP + 12MP + 8MP  \n",
       "3           A16 Bionic   50MP + 50MP + 2MP  \n",
       "4            Helio G99   64MP + 50MP + 8MP  \n",
       "5        Dimensity 920   48MP + 50MP + 8MP  \n",
       "6        Dimensity 920    12MP + 8MP + 2MP  \n",
       "7           A16 Bionic   12MP + 12MP + 2MP  \n",
       "8            Helio G99   12MP + 12MP + 2MP  \n",
       "9        Dimensity 920   50MP + 12MP + 5MP  "
      ]
     },
     "execution_count": 15,
     "metadata": {},
     "output_type": "execute_result"
    }
   ],
   "source": [
    "import pandas as pd\n",
    "import os\n",
    "import kagglehub\n",
    "\n",
    "\n",
    "# Download latest version\n",
    "data_path = kagglehub.dataset_download(\"amansingh0000000/smartphones\")\n",
    "\n",
    "smartphones_csv = os.path.join(data_path, \"mobile_phones_2000.csv\")\n",
    "df = pd.read_csv(smartphones_csv)\n",
    "df.head(10)\n",
    "\n",
    "\n"
   ]
  },
  {
   "cell_type": "code",
   "execution_count": 16,
   "id": "c336fe10",
   "metadata": {},
   "outputs": [
    {
     "data": {
      "text/plain": [
       "Index(['Brand', 'Model', 'Price (USD)', 'Selling Platform', 'Rating',\n",
       "       'Refresh Rate (Hz)', 'Screen Size (inches)', 'RAM (GB)', 'Storage (GB)',\n",
       "       'Processor', 'Camera Setup'],\n",
       "      dtype='object')"
      ]
     },
     "execution_count": 16,
     "metadata": {},
     "output_type": "execute_result"
    }
   ],
   "source": [
    "df.columns"
   ]
  },
  {
   "cell_type": "code",
   "execution_count": 8,
   "id": "80ccda97",
   "metadata": {},
   "outputs": [
    {
     "data": {
      "text/html": [
       "<div>\n",
       "<style scoped>\n",
       "    .dataframe tbody tr th:only-of-type {\n",
       "        vertical-align: middle;\n",
       "    }\n",
       "\n",
       "    .dataframe tbody tr th {\n",
       "        vertical-align: top;\n",
       "    }\n",
       "\n",
       "    .dataframe thead th {\n",
       "        text-align: right;\n",
       "    }\n",
       "</style>\n",
       "<table border=\"1\" class=\"dataframe\">\n",
       "  <thead>\n",
       "    <tr style=\"text-align: right;\">\n",
       "      <th></th>\n",
       "      <th>Selling Platform</th>\n",
       "      <th>Count</th>\n",
       "    </tr>\n",
       "  </thead>\n",
       "  <tbody>\n",
       "    <tr>\n",
       "      <th>6</th>\n",
       "      <td>Walmart</td>\n",
       "      <td>260</td>\n",
       "    </tr>\n",
       "    <tr>\n",
       "      <th>0</th>\n",
       "      <td>AliExpress</td>\n",
       "      <td>258</td>\n",
       "    </tr>\n",
       "    <tr>\n",
       "      <th>4</th>\n",
       "      <td>Official Store</td>\n",
       "      <td>256</td>\n",
       "    </tr>\n",
       "    <tr>\n",
       "      <th>3</th>\n",
       "      <td>Flipkart</td>\n",
       "      <td>251</td>\n",
       "    </tr>\n",
       "    <tr>\n",
       "      <th>1</th>\n",
       "      <td>Amazon</td>\n",
       "      <td>250</td>\n",
       "    </tr>\n",
       "    <tr>\n",
       "      <th>7</th>\n",
       "      <td>eBay</td>\n",
       "      <td>247</td>\n",
       "    </tr>\n",
       "    <tr>\n",
       "      <th>5</th>\n",
       "      <td>Reliance Digital</td>\n",
       "      <td>244</td>\n",
       "    </tr>\n",
       "    <tr>\n",
       "      <th>2</th>\n",
       "      <td>Best Buy</td>\n",
       "      <td>234</td>\n",
       "    </tr>\n",
       "  </tbody>\n",
       "</table>\n",
       "</div>"
      ],
      "text/plain": [
       "   Selling Platform  Count\n",
       "6           Walmart    260\n",
       "0        AliExpress    258\n",
       "4    Official Store    256\n",
       "3          Flipkart    251\n",
       "1            Amazon    250\n",
       "7              eBay    247\n",
       "5  Reliance Digital    244\n",
       "2          Best Buy    234"
      ]
     },
     "execution_count": 8,
     "metadata": {},
     "output_type": "execute_result"
    }
   ],
   "source": [
    "# Group by selling platform and calculate the count of entries for each platform\n",
    "platform_grouped = df.groupby('Selling Platform').size().reset_index(name='Count').sort_values(by='Count', ascending=False)\n",
    "\n",
    "\n",
    "\n",
    "# Display the grouped dataframe\n",
    "platform_grouped"
   ]
  },
  {
   "cell_type": "code",
   "execution_count": 9,
   "id": "ed0e0cb7",
   "metadata": {},
   "outputs": [
    {
     "name": "stdout",
     "output_type": "stream",
     "text": [
      "Number of unique selling platforms: 8\n"
     ]
    }
   ],
   "source": [
    "unique_platforms_count = df['Selling Platform'].nunique()\n",
    "print(f\"Number of unique selling platforms: {unique_platforms_count}\")"
   ]
  },
  {
   "cell_type": "code",
   "execution_count": 10,
   "id": "0906547f",
   "metadata": {},
   "outputs": [
    {
     "data": {
      "text/html": [
       "<div>\n",
       "<style scoped>\n",
       "    .dataframe tbody tr th:only-of-type {\n",
       "        vertical-align: middle;\n",
       "    }\n",
       "\n",
       "    .dataframe tbody tr th {\n",
       "        vertical-align: top;\n",
       "    }\n",
       "\n",
       "    .dataframe thead th {\n",
       "        text-align: right;\n",
       "    }\n",
       "</style>\n",
       "<table border=\"1\" class=\"dataframe\">\n",
       "  <thead>\n",
       "    <tr style=\"text-align: right;\">\n",
       "      <th></th>\n",
       "      <th>Selling Platform</th>\n",
       "      <th>Model Count</th>\n",
       "    </tr>\n",
       "  </thead>\n",
       "  <tbody>\n",
       "    <tr>\n",
       "      <th>0</th>\n",
       "      <td>AliExpress</td>\n",
       "      <td>246</td>\n",
       "    </tr>\n",
       "    <tr>\n",
       "      <th>1</th>\n",
       "      <td>Amazon</td>\n",
       "      <td>228</td>\n",
       "    </tr>\n",
       "    <tr>\n",
       "      <th>2</th>\n",
       "      <td>Best Buy</td>\n",
       "      <td>220</td>\n",
       "    </tr>\n",
       "    <tr>\n",
       "      <th>3</th>\n",
       "      <td>Flipkart</td>\n",
       "      <td>228</td>\n",
       "    </tr>\n",
       "    <tr>\n",
       "      <th>4</th>\n",
       "      <td>Official Store</td>\n",
       "      <td>239</td>\n",
       "    </tr>\n",
       "    <tr>\n",
       "      <th>5</th>\n",
       "      <td>Reliance Digital</td>\n",
       "      <td>225</td>\n",
       "    </tr>\n",
       "    <tr>\n",
       "      <th>6</th>\n",
       "      <td>Walmart</td>\n",
       "      <td>234</td>\n",
       "    </tr>\n",
       "    <tr>\n",
       "      <th>7</th>\n",
       "      <td>eBay</td>\n",
       "      <td>231</td>\n",
       "    </tr>\n",
       "  </tbody>\n",
       "</table>\n",
       "</div>"
      ],
      "text/plain": [
       "   Selling Platform  Model Count\n",
       "0        AliExpress          246\n",
       "1            Amazon          228\n",
       "2          Best Buy          220\n",
       "3          Flipkart          228\n",
       "4    Official Store          239\n",
       "5  Reliance Digital          225\n",
       "6           Walmart          234\n",
       "7              eBay          231"
      ]
     },
     "execution_count": 10,
     "metadata": {},
     "output_type": "execute_result"
    }
   ],
   "source": [
    "platform_model_count = df.groupby('Selling Platform')['Model'].nunique().reset_index(name='Model Count')\n",
    "model_grouped = df.groupby('Model').size().reset_index(name='Count').sort_values(by='Count', ascending=False)\n",
    "# Display the new dataframe\n",
    "platform_model_count"
   ]
  },
  {
   "cell_type": "code",
   "execution_count": 11,
   "id": "f7cdc0de",
   "metadata": {},
   "outputs": [
    {
     "data": {
      "text/html": [
       "<div>\n",
       "<style scoped>\n",
       "    .dataframe tbody tr th:only-of-type {\n",
       "        vertical-align: middle;\n",
       "    }\n",
       "\n",
       "    .dataframe tbody tr th {\n",
       "        vertical-align: top;\n",
       "    }\n",
       "\n",
       "    .dataframe thead th {\n",
       "        text-align: right;\n",
       "    }\n",
       "</style>\n",
       "<table border=\"1\" class=\"dataframe\">\n",
       "  <thead>\n",
       "    <tr style=\"text-align: right;\">\n",
       "      <th></th>\n",
       "      <th>Model</th>\n",
       "      <th>Count</th>\n",
       "    </tr>\n",
       "  </thead>\n",
       "  <tbody>\n",
       "    <tr>\n",
       "      <th>645</th>\n",
       "      <td>Pixel Edge 17</td>\n",
       "      <td>6</td>\n",
       "    </tr>\n",
       "    <tr>\n",
       "      <th>482</th>\n",
       "      <td>Nord Plus 14</td>\n",
       "      <td>5</td>\n",
       "    </tr>\n",
       "    <tr>\n",
       "      <th>131</th>\n",
       "      <td>Mate Edge 25</td>\n",
       "      <td>5</td>\n",
       "    </tr>\n",
       "    <tr>\n",
       "      <th>288</th>\n",
       "      <td>Moto G Pro 13</td>\n",
       "      <td>5</td>\n",
       "    </tr>\n",
       "    <tr>\n",
       "      <th>533</th>\n",
       "      <td>Nord Ultra 24</td>\n",
       "      <td>5</td>\n",
       "    </tr>\n",
       "    <tr>\n",
       "      <th>...</th>\n",
       "      <td>...</td>\n",
       "      <td>...</td>\n",
       "    </tr>\n",
       "    <tr>\n",
       "      <th>553</th>\n",
       "      <td>P Series Lite 10</td>\n",
       "      <td>1</td>\n",
       "    </tr>\n",
       "    <tr>\n",
       "      <th>554</th>\n",
       "      <td>P Series Lite 13</td>\n",
       "      <td>1</td>\n",
       "    </tr>\n",
       "    <tr>\n",
       "      <th>555</th>\n",
       "      <td>P Series Lite 17</td>\n",
       "      <td>1</td>\n",
       "    </tr>\n",
       "    <tr>\n",
       "      <th>558</th>\n",
       "      <td>P Series Lite 21</td>\n",
       "      <td>1</td>\n",
       "    </tr>\n",
       "    <tr>\n",
       "      <th>619</th>\n",
       "      <td>P Series Turbo 21</td>\n",
       "      <td>1</td>\n",
       "    </tr>\n",
       "  </tbody>\n",
       "</table>\n",
       "<p>1238 rows × 2 columns</p>\n",
       "</div>"
      ],
      "text/plain": [
       "                 Model  Count\n",
       "645      Pixel Edge 17      6\n",
       "482       Nord Plus 14      5\n",
       "131       Mate Edge 25      5\n",
       "288      Moto G Pro 13      5\n",
       "533      Nord Ultra 24      5\n",
       "..                 ...    ...\n",
       "553   P Series Lite 10      1\n",
       "554   P Series Lite 13      1\n",
       "555   P Series Lite 17      1\n",
       "558   P Series Lite 21      1\n",
       "619  P Series Turbo 21      1\n",
       "\n",
       "[1238 rows x 2 columns]"
      ]
     },
     "execution_count": 11,
     "metadata": {},
     "output_type": "execute_result"
    }
   ],
   "source": [
    "model_grouped"
   ]
  },
  {
   "cell_type": "code",
   "execution_count": 12,
   "id": "f4ea9b4c",
   "metadata": {},
   "outputs": [
    {
     "data": {
      "text/html": [
       "<div>\n",
       "<style scoped>\n",
       "    .dataframe tbody tr th:only-of-type {\n",
       "        vertical-align: middle;\n",
       "    }\n",
       "\n",
       "    .dataframe tbody tr th {\n",
       "        vertical-align: top;\n",
       "    }\n",
       "\n",
       "    .dataframe thead th {\n",
       "        text-align: right;\n",
       "    }\n",
       "</style>\n",
       "<table border=\"1\" class=\"dataframe\">\n",
       "  <thead>\n",
       "    <tr style=\"text-align: right;\">\n",
       "      <th></th>\n",
       "      <th>Selling Platform</th>\n",
       "      <th>Brand</th>\n",
       "      <th>Count</th>\n",
       "    </tr>\n",
       "  </thead>\n",
       "  <tbody>\n",
       "    <tr>\n",
       "      <th>18</th>\n",
       "      <td>Amazon</td>\n",
       "      <td>Oppo</td>\n",
       "      <td>35</td>\n",
       "    </tr>\n",
       "    <tr>\n",
       "      <th>56</th>\n",
       "      <td>Official Store</td>\n",
       "      <td>Samsung</td>\n",
       "      <td>33</td>\n",
       "    </tr>\n",
       "    <tr>\n",
       "      <th>80</th>\n",
       "      <td>Walmart</td>\n",
       "      <td>Samsung</td>\n",
       "      <td>32</td>\n",
       "    </tr>\n",
       "    <tr>\n",
       "      <th>8</th>\n",
       "      <td>AliExpress</td>\n",
       "      <td>Samsung</td>\n",
       "      <td>29</td>\n",
       "    </tr>\n",
       "    <tr>\n",
       "      <th>73</th>\n",
       "      <td>Walmart</td>\n",
       "      <td>Google</td>\n",
       "      <td>29</td>\n",
       "    </tr>\n",
       "    <tr>\n",
       "      <th>7</th>\n",
       "      <td>AliExpress</td>\n",
       "      <td>Realme</td>\n",
       "      <td>28</td>\n",
       "    </tr>\n",
       "    <tr>\n",
       "      <th>52</th>\n",
       "      <td>Official Store</td>\n",
       "      <td>Nokia</td>\n",
       "      <td>27</td>\n",
       "    </tr>\n",
       "    <tr>\n",
       "      <th>77</th>\n",
       "      <td>Walmart</td>\n",
       "      <td>OnePlus</td>\n",
       "      <td>26</td>\n",
       "    </tr>\n",
       "    <tr>\n",
       "      <th>55</th>\n",
       "      <td>Official Store</td>\n",
       "      <td>Realme</td>\n",
       "      <td>25</td>\n",
       "    </tr>\n",
       "    <tr>\n",
       "      <th>11</th>\n",
       "      <td>AliExpress</td>\n",
       "      <td>Xiaomi</td>\n",
       "      <td>25</td>\n",
       "    </tr>\n",
       "    <tr>\n",
       "      <th>72</th>\n",
       "      <td>Walmart</td>\n",
       "      <td>Apple</td>\n",
       "      <td>25</td>\n",
       "    </tr>\n",
       "    <tr>\n",
       "      <th>47</th>\n",
       "      <td>Flipkart</td>\n",
       "      <td>Xiaomi</td>\n",
       "      <td>25</td>\n",
       "    </tr>\n",
       "    <tr>\n",
       "      <th>12</th>\n",
       "      <td>Amazon</td>\n",
       "      <td>Apple</td>\n",
       "      <td>24</td>\n",
       "    </tr>\n",
       "    <tr>\n",
       "      <th>79</th>\n",
       "      <td>Walmart</td>\n",
       "      <td>Realme</td>\n",
       "      <td>24</td>\n",
       "    </tr>\n",
       "    <tr>\n",
       "      <th>36</th>\n",
       "      <td>Flipkart</td>\n",
       "      <td>Apple</td>\n",
       "      <td>23</td>\n",
       "    </tr>\n",
       "    <tr>\n",
       "      <th>38</th>\n",
       "      <td>Flipkart</td>\n",
       "      <td>Huawei</td>\n",
       "      <td>23</td>\n",
       "    </tr>\n",
       "    <tr>\n",
       "      <th>15</th>\n",
       "      <td>Amazon</td>\n",
       "      <td>Motorola</td>\n",
       "      <td>23</td>\n",
       "    </tr>\n",
       "    <tr>\n",
       "      <th>41</th>\n",
       "      <td>Flipkart</td>\n",
       "      <td>OnePlus</td>\n",
       "      <td>23</td>\n",
       "    </tr>\n",
       "    <tr>\n",
       "      <th>44</th>\n",
       "      <td>Flipkart</td>\n",
       "      <td>Samsung</td>\n",
       "      <td>23</td>\n",
       "    </tr>\n",
       "    <tr>\n",
       "      <th>13</th>\n",
       "      <td>Amazon</td>\n",
       "      <td>Google</td>\n",
       "      <td>23</td>\n",
       "    </tr>\n",
       "    <tr>\n",
       "      <th>74</th>\n",
       "      <td>Walmart</td>\n",
       "      <td>Huawei</td>\n",
       "      <td>23</td>\n",
       "    </tr>\n",
       "    <tr>\n",
       "      <th>6</th>\n",
       "      <td>AliExpress</td>\n",
       "      <td>Oppo</td>\n",
       "      <td>23</td>\n",
       "    </tr>\n",
       "    <tr>\n",
       "      <th>2</th>\n",
       "      <td>AliExpress</td>\n",
       "      <td>Huawei</td>\n",
       "      <td>23</td>\n",
       "    </tr>\n",
       "    <tr>\n",
       "      <th>14</th>\n",
       "      <td>Amazon</td>\n",
       "      <td>Huawei</td>\n",
       "      <td>22</td>\n",
       "    </tr>\n",
       "    <tr>\n",
       "      <th>53</th>\n",
       "      <td>Official Store</td>\n",
       "      <td>OnePlus</td>\n",
       "      <td>22</td>\n",
       "    </tr>\n",
       "    <tr>\n",
       "      <th>51</th>\n",
       "      <td>Official Store</td>\n",
       "      <td>Motorola</td>\n",
       "      <td>22</td>\n",
       "    </tr>\n",
       "    <tr>\n",
       "      <th>49</th>\n",
       "      <td>Official Store</td>\n",
       "      <td>Google</td>\n",
       "      <td>22</td>\n",
       "    </tr>\n",
       "    <tr>\n",
       "      <th>46</th>\n",
       "      <td>Flipkart</td>\n",
       "      <td>Vivo</td>\n",
       "      <td>22</td>\n",
       "    </tr>\n",
       "    <tr>\n",
       "      <th>40</th>\n",
       "      <td>Flipkart</td>\n",
       "      <td>Nokia</td>\n",
       "      <td>22</td>\n",
       "    </tr>\n",
       "    <tr>\n",
       "      <th>83</th>\n",
       "      <td>Walmart</td>\n",
       "      <td>Xiaomi</td>\n",
       "      <td>22</td>\n",
       "    </tr>\n",
       "    <tr>\n",
       "      <th>0</th>\n",
       "      <td>AliExpress</td>\n",
       "      <td>Apple</td>\n",
       "      <td>21</td>\n",
       "    </tr>\n",
       "    <tr>\n",
       "      <th>9</th>\n",
       "      <td>AliExpress</td>\n",
       "      <td>Sony</td>\n",
       "      <td>21</td>\n",
       "    </tr>\n",
       "    <tr>\n",
       "      <th>16</th>\n",
       "      <td>Amazon</td>\n",
       "      <td>Nokia</td>\n",
       "      <td>21</td>\n",
       "    </tr>\n",
       "    <tr>\n",
       "      <th>22</th>\n",
       "      <td>Amazon</td>\n",
       "      <td>Vivo</td>\n",
       "      <td>21</td>\n",
       "    </tr>\n",
       "    <tr>\n",
       "      <th>50</th>\n",
       "      <td>Official Store</td>\n",
       "      <td>Huawei</td>\n",
       "      <td>20</td>\n",
       "    </tr>\n",
       "    <tr>\n",
       "      <th>43</th>\n",
       "      <td>Flipkart</td>\n",
       "      <td>Realme</td>\n",
       "      <td>19</td>\n",
       "    </tr>\n",
       "    <tr>\n",
       "      <th>20</th>\n",
       "      <td>Amazon</td>\n",
       "      <td>Samsung</td>\n",
       "      <td>19</td>\n",
       "    </tr>\n",
       "    <tr>\n",
       "      <th>3</th>\n",
       "      <td>AliExpress</td>\n",
       "      <td>Motorola</td>\n",
       "      <td>19</td>\n",
       "    </tr>\n",
       "    <tr>\n",
       "      <th>78</th>\n",
       "      <td>Walmart</td>\n",
       "      <td>Oppo</td>\n",
       "      <td>19</td>\n",
       "    </tr>\n",
       "    <tr>\n",
       "      <th>10</th>\n",
       "      <td>AliExpress</td>\n",
       "      <td>Vivo</td>\n",
       "      <td>19</td>\n",
       "    </tr>\n",
       "    <tr>\n",
       "      <th>42</th>\n",
       "      <td>Flipkart</td>\n",
       "      <td>Oppo</td>\n",
       "      <td>19</td>\n",
       "    </tr>\n",
       "    <tr>\n",
       "      <th>39</th>\n",
       "      <td>Flipkart</td>\n",
       "      <td>Motorola</td>\n",
       "      <td>19</td>\n",
       "    </tr>\n",
       "    <tr>\n",
       "      <th>23</th>\n",
       "      <td>Amazon</td>\n",
       "      <td>Xiaomi</td>\n",
       "      <td>18</td>\n",
       "    </tr>\n",
       "    <tr>\n",
       "      <th>81</th>\n",
       "      <td>Walmart</td>\n",
       "      <td>Sony</td>\n",
       "      <td>18</td>\n",
       "    </tr>\n",
       "    <tr>\n",
       "      <th>1</th>\n",
       "      <td>AliExpress</td>\n",
       "      <td>Google</td>\n",
       "      <td>18</td>\n",
       "    </tr>\n",
       "    <tr>\n",
       "      <th>58</th>\n",
       "      <td>Official Store</td>\n",
       "      <td>Vivo</td>\n",
       "      <td>18</td>\n",
       "    </tr>\n",
       "    <tr>\n",
       "      <th>37</th>\n",
       "      <td>Flipkart</td>\n",
       "      <td>Google</td>\n",
       "      <td>17</td>\n",
       "    </tr>\n",
       "    <tr>\n",
       "      <th>54</th>\n",
       "      <td>Official Store</td>\n",
       "      <td>Oppo</td>\n",
       "      <td>17</td>\n",
       "    </tr>\n",
       "    <tr>\n",
       "      <th>57</th>\n",
       "      <td>Official Store</td>\n",
       "      <td>Sony</td>\n",
       "      <td>17</td>\n",
       "    </tr>\n",
       "    <tr>\n",
       "      <th>59</th>\n",
       "      <td>Official Store</td>\n",
       "      <td>Xiaomi</td>\n",
       "      <td>17</td>\n",
       "    </tr>\n",
       "    <tr>\n",
       "      <th>48</th>\n",
       "      <td>Official Store</td>\n",
       "      <td>Apple</td>\n",
       "      <td>16</td>\n",
       "    </tr>\n",
       "    <tr>\n",
       "      <th>5</th>\n",
       "      <td>AliExpress</td>\n",
       "      <td>OnePlus</td>\n",
       "      <td>16</td>\n",
       "    </tr>\n",
       "    <tr>\n",
       "      <th>17</th>\n",
       "      <td>Amazon</td>\n",
       "      <td>OnePlus</td>\n",
       "      <td>16</td>\n",
       "    </tr>\n",
       "    <tr>\n",
       "      <th>4</th>\n",
       "      <td>AliExpress</td>\n",
       "      <td>Nokia</td>\n",
       "      <td>16</td>\n",
       "    </tr>\n",
       "    <tr>\n",
       "      <th>45</th>\n",
       "      <td>Flipkart</td>\n",
       "      <td>Sony</td>\n",
       "      <td>16</td>\n",
       "    </tr>\n",
       "    <tr>\n",
       "      <th>19</th>\n",
       "      <td>Amazon</td>\n",
       "      <td>Realme</td>\n",
       "      <td>16</td>\n",
       "    </tr>\n",
       "    <tr>\n",
       "      <th>82</th>\n",
       "      <td>Walmart</td>\n",
       "      <td>Vivo</td>\n",
       "      <td>16</td>\n",
       "    </tr>\n",
       "    <tr>\n",
       "      <th>75</th>\n",
       "      <td>Walmart</td>\n",
       "      <td>Motorola</td>\n",
       "      <td>15</td>\n",
       "    </tr>\n",
       "    <tr>\n",
       "      <th>21</th>\n",
       "      <td>Amazon</td>\n",
       "      <td>Sony</td>\n",
       "      <td>12</td>\n",
       "    </tr>\n",
       "    <tr>\n",
       "      <th>76</th>\n",
       "      <td>Walmart</td>\n",
       "      <td>Nokia</td>\n",
       "      <td>11</td>\n",
       "    </tr>\n",
       "  </tbody>\n",
       "</table>\n",
       "</div>"
      ],
      "text/plain": [
       "   Selling Platform     Brand  Count\n",
       "18           Amazon      Oppo     35\n",
       "56   Official Store   Samsung     33\n",
       "80          Walmart   Samsung     32\n",
       "8        AliExpress   Samsung     29\n",
       "73          Walmart    Google     29\n",
       "7        AliExpress    Realme     28\n",
       "52   Official Store     Nokia     27\n",
       "77          Walmart   OnePlus     26\n",
       "55   Official Store    Realme     25\n",
       "11       AliExpress    Xiaomi     25\n",
       "72          Walmart     Apple     25\n",
       "47         Flipkart    Xiaomi     25\n",
       "12           Amazon     Apple     24\n",
       "79          Walmart    Realme     24\n",
       "36         Flipkart     Apple     23\n",
       "38         Flipkart    Huawei     23\n",
       "15           Amazon  Motorola     23\n",
       "41         Flipkart   OnePlus     23\n",
       "44         Flipkart   Samsung     23\n",
       "13           Amazon    Google     23\n",
       "74          Walmart    Huawei     23\n",
       "6        AliExpress      Oppo     23\n",
       "2        AliExpress    Huawei     23\n",
       "14           Amazon    Huawei     22\n",
       "53   Official Store   OnePlus     22\n",
       "51   Official Store  Motorola     22\n",
       "49   Official Store    Google     22\n",
       "46         Flipkart      Vivo     22\n",
       "40         Flipkart     Nokia     22\n",
       "83          Walmart    Xiaomi     22\n",
       "0        AliExpress     Apple     21\n",
       "9        AliExpress      Sony     21\n",
       "16           Amazon     Nokia     21\n",
       "22           Amazon      Vivo     21\n",
       "50   Official Store    Huawei     20\n",
       "43         Flipkart    Realme     19\n",
       "20           Amazon   Samsung     19\n",
       "3        AliExpress  Motorola     19\n",
       "78          Walmart      Oppo     19\n",
       "10       AliExpress      Vivo     19\n",
       "42         Flipkart      Oppo     19\n",
       "39         Flipkart  Motorola     19\n",
       "23           Amazon    Xiaomi     18\n",
       "81          Walmart      Sony     18\n",
       "1        AliExpress    Google     18\n",
       "58   Official Store      Vivo     18\n",
       "37         Flipkart    Google     17\n",
       "54   Official Store      Oppo     17\n",
       "57   Official Store      Sony     17\n",
       "59   Official Store    Xiaomi     17\n",
       "48   Official Store     Apple     16\n",
       "5        AliExpress   OnePlus     16\n",
       "17           Amazon   OnePlus     16\n",
       "4        AliExpress     Nokia     16\n",
       "45         Flipkart      Sony     16\n",
       "19           Amazon    Realme     16\n",
       "82          Walmart      Vivo     16\n",
       "75          Walmart  Motorola     15\n",
       "21           Amazon      Sony     12\n",
       "76          Walmart     Nokia     11"
      ]
     },
     "execution_count": 12,
     "metadata": {},
     "output_type": "execute_result"
    }
   ],
   "source": [
    "model_platform_count = df.groupby(['Selling Platform', 'Brand']).size().reset_index(name='Count')\n",
    "top_5_platforms = platform_grouped.head(5)['Selling Platform']\n",
    "model_platform_count = model_platform_count[model_platform_count['Selling Platform'].isin(top_5_platforms)]\n",
    "# Sort the resulting dataframe by 'Count' in descending order\n",
    "model_platform_count = model_platform_count.sort_values(by='Count', ascending=False)\n",
    "model_platform_count"
   ]
  },
  {
   "cell_type": "code",
   "execution_count": 18,
   "id": "505f9341",
   "metadata": {},
   "outputs": [
    {
     "name": "stdout",
     "output_type": "stream",
     "text": [
      "6.26825\n"
     ]
    }
   ],
   "source": [
    "screen_size_average = df['Screen Size (inches)'].mean()\n",
    "\n",
    "print(screen_size_average)"
   ]
  },
  {
   "cell_type": "code",
   "execution_count": 19,
   "id": "cfe59d8a",
   "metadata": {},
   "outputs": [
    {
     "name": "stdout",
     "output_type": "stream",
     "text": [
      "1085.49698\n"
     ]
    }
   ],
   "source": [
    "price_average = df['Price (USD)'].mean()\n",
    "print(price_average)\n",
    "\n"
   ]
  },
  {
   "cell_type": "code",
   "execution_count": 23,
   "id": "7394a513",
   "metadata": {},
   "outputs": [
    {
     "name": "stdout",
     "output_type": "stream",
     "text": [
      "   Selling Platform  Average Price (USD)\n",
      "0        AliExpress          1030.117248\n",
      "1            Amazon          1097.568400\n",
      "2          Best Buy          1066.216026\n",
      "3          Flipkart          1081.012510\n",
      "4    Official Store          1092.117266\n",
      "5  Reliance Digital          1109.923279\n",
      "6           Walmart          1059.466385\n",
      "7              eBay          1150.357733\n"
     ]
    }
   ],
   "source": [
    "price_average_by_platform = df.groupby('Selling Platform')['Price (USD)'].mean().reset_index(name='Average Price (USD)')\n",
    "# Sort the resulting dataframe by 'Average Price (USD)' in descending order\n",
    "price_average_by_group = price_average_by_platform.sort_values(by='Average Price (USD)', ascending=False)\n",
    "print(price_average_by_platform)"
   ]
  },
  {
   "cell_type": "code",
   "execution_count": 5,
   "id": "ec494bb8",
   "metadata": {},
   "outputs": [
    {
     "ename": "NameError",
     "evalue": "name 'df' is not defined",
     "output_type": "error",
     "traceback": [
      "\u001b[0;31m---------------------------------------------------------------------------\u001b[0m",
      "\u001b[0;31mNameError\u001b[0m                                 Traceback (most recent call last)",
      "Cell \u001b[0;32mIn[5], line 1\u001b[0m\n\u001b[0;32m----> 1\u001b[0m price_average_by_brand \u001b[38;5;241m=\u001b[39m \u001b[43mdf\u001b[49m\u001b[38;5;241m.\u001b[39mgroupby(\u001b[38;5;124m'\u001b[39m\u001b[38;5;124mBrand\u001b[39m\u001b[38;5;124m'\u001b[39m)[\u001b[38;5;124m'\u001b[39m\u001b[38;5;124mPrice (USD)\u001b[39m\u001b[38;5;124m'\u001b[39m]\u001b[38;5;241m.\u001b[39mmean()\u001b[38;5;241m.\u001b[39mreset_index(name\u001b[38;5;241m=\u001b[39m\u001b[38;5;124m'\u001b[39m\u001b[38;5;124mAverage Price (USD)\u001b[39m\u001b[38;5;124m'\u001b[39m)\n\u001b[1;32m      2\u001b[0m price_average_by_brand \u001b[38;5;241m=\u001b[39m price_average_by_brand\u001b[38;5;241m.\u001b[39msort_values(by\u001b[38;5;241m=\u001b[39m\u001b[38;5;124m'\u001b[39m\u001b[38;5;124mAverage Price (USD)\u001b[39m\u001b[38;5;124m'\u001b[39m, ascending\u001b[38;5;241m=\u001b[39m\u001b[38;5;28;01mFalse\u001b[39;00m)\n\u001b[1;32m      3\u001b[0m \u001b[38;5;28mprint\u001b[39m(price_average_by_brand)\n",
      "\u001b[0;31mNameError\u001b[0m: name 'df' is not defined"
     ]
    }
   ],
   "source": [
    "price_average_by_brand = df.groupby('Brand')['Price (USD)'].mean().reset_index(name='Average Price (USD)')\n",
    "price_average_by_brand = price_average_by_brand.sort_values(by='Average Price (USD)', ascending=False)\n",
    "print(price_average_by_brand)"
   ]
  },
  {
   "cell_type": "code",
   "execution_count": 6,
   "id": "b37c33ce",
   "metadata": {},
   "outputs": [],
   "source": [
    "import numpy as np"
   ]
  },
  {
   "cell_type": "code",
   "execution_count": 21,
   "id": "5a1f6734",
   "metadata": {},
   "outputs": [
    {
     "data": {
      "text/plain": [
       "np.int64(185)"
      ]
     },
     "execution_count": 21,
     "metadata": {},
     "output_type": "execute_result"
    }
   ],
   "source": [
    "np.sum((0 < a) & (a < 10))\n"
   ]
  },
  {
   "cell_type": "code",
   "execution_count": 50,
   "id": "ebff2576",
   "metadata": {},
   "outputs": [
    {
     "name": "stdout",
     "output_type": "stream",
     "text": [
      "[[1 2 3 4 5]\n",
      " [2 2 3 3 5]]\n"
     ]
    }
   ],
   "source": [
    "ar = np.array([[1, 2, 3, 4, 5], [2, 2,3,3,5]])\n",
    "print(ar)"
   ]
  },
  {
   "cell_type": "code",
   "execution_count": null,
   "id": "c1b21398",
   "metadata": {},
   "outputs": [],
   "source": []
  },
  {
   "cell_type": "code",
   "execution_count": 47,
   "id": "791ba04e",
   "metadata": {},
   "outputs": [
    {
     "name": "stdout",
     "output_type": "stream",
     "text": [
      "[2 2 3 3 5]\n"
     ]
    }
   ],
   "source": [
    "second_row = ar[1]\n",
    "print(second_row)"
   ]
  },
  {
   "cell_type": "code",
   "execution_count": 49,
   "id": "3bb71a48",
   "metadata": {},
   "outputs": [
    {
     "ename": "ValueError",
     "evalue": "The truth value of an array with more than one element is ambiguous. Use a.any() or a.all()",
     "output_type": "error",
     "traceback": [
      "\u001b[0;31m---------------------------------------------------------------------------\u001b[0m",
      "\u001b[0;31mValueError\u001b[0m                                Traceback (most recent call last)",
      "Cell \u001b[0;32mIn[49], line 2\u001b[0m\n\u001b[1;32m      1\u001b[0m \u001b[38;5;28;01mfor\u001b[39;00m x \u001b[38;5;129;01min\u001b[39;00m ar:\n\u001b[0;32m----> 2\u001b[0m     \u001b[38;5;28;01mif\u001b[39;00m (second_row \u001b[38;5;241m>\u001b[39m x):\n\u001b[1;32m      3\u001b[0m         a \u001b[38;5;241m+\u001b[39m\u001b[38;5;241m=\u001b[39m x\n\u001b[1;32m      4\u001b[0m \u001b[38;5;28mprint\u001b[39m(a)\n",
      "\u001b[0;31mValueError\u001b[0m: The truth value of an array with more than one element is ambiguous. Use a.any() or a.all()"
     ]
    }
   ],
   "source": [
    "for x in ar:\n",
    "    if (second_row > x):\n",
    "        a += x\n",
    "print(a)"
   ]
  },
  {
   "cell_type": "code",
   "execution_count": 31,
   "id": "2d91caba",
   "metadata": {},
   "outputs": [
    {
     "name": "stdout",
     "output_type": "stream",
     "text": [
      "[4 4]\n"
     ]
    }
   ],
   "source": [
    "print(ar[:,-2])"
   ]
  },
  {
   "cell_type": "code",
   "execution_count": 40,
   "id": "0cd0089d",
   "metadata": {},
   "outputs": [
    {
     "name": "stdout",
     "output_type": "stream",
     "text": [
      "[2 2 3 3 5]\n"
     ]
    }
   ],
   "source": [
    "print(ar[1,:])\n"
   ]
  },
  {
   "cell_type": "code",
   "execution_count": null,
   "id": "e77a088f",
   "metadata": {},
   "outputs": [],
   "source": []
  },
  {
   "cell_type": "code",
   "execution_count": 41,
   "id": "e80863eb",
   "metadata": {},
   "outputs": [],
   "source": [
    "def column_comparison(two_d_array):\n",
    "    for x in two_d_array:\n",
    "        a += (two_d_array[-2,:] < x)\n",
    "    return a \n"
   ]
  },
  {
   "cell_type": "code",
   "execution_count": 52,
   "id": "ea57c5ed",
   "metadata": {},
   "outputs": [
    {
     "data": {
      "text/plain": [
       "array([10, 20, 30])"
      ]
     },
     "execution_count": 52,
     "metadata": {},
     "output_type": "execute_result"
    }
   ],
   "source": [
    "arr = np.array([10, 20, 30, 40, 50])\n",
    "arr[:3]\n",
    "\n"
   ]
  },
  {
   "cell_type": "code",
   "execution_count": 53,
   "id": "75de38e2",
   "metadata": {},
   "outputs": [
    {
     "data": {
      "text/plain": [
       "array([40, 50])"
      ]
     },
     "execution_count": 53,
     "metadata": {},
     "output_type": "execute_result"
    }
   ],
   "source": [
    "arr = np.array([10, 20, 30, 40, 50])\n",
    "arr[-2:]"
   ]
  },
  {
   "cell_type": "code",
   "execution_count": 54,
   "id": "dad8563d",
   "metadata": {},
   "outputs": [
    {
     "data": {
      "text/plain": [
       "array([40, 50])"
      ]
     },
     "execution_count": 54,
     "metadata": {},
     "output_type": "execute_result"
    }
   ],
   "source": [
    "arr[arr>30]"
   ]
  },
  {
   "cell_type": "code",
   "execution_count": 57,
   "id": "bd63a213",
   "metadata": {},
   "outputs": [
    {
     "data": {
      "text/plain": [
       "array([4, 5, 6])"
      ]
     },
     "execution_count": 57,
     "metadata": {},
     "output_type": "execute_result"
    }
   ],
   "source": [
    "arr = np.array([[1, 2, 3],\n",
    "                [4, 5, 6],\n",
    "                [7, 8, 9]])\n",
    "arr[1]"
   ]
  },
  {
   "cell_type": "code",
   "execution_count": 60,
   "id": "96a5160d",
   "metadata": {},
   "outputs": [
    {
     "data": {
      "text/plain": [
       "array([1, 4, 7])"
      ]
     },
     "execution_count": 60,
     "metadata": {},
     "output_type": "execute_result"
    }
   ],
   "source": [
    "arr = np.array([[1, 2, 3],\n",
    "                [4, 5, 6],\n",
    "                [7, 8, 9]])\n",
    "arr[:,0]"
   ]
  },
  {
   "cell_type": "code",
   "execution_count": 63,
   "id": "6cd0f03b",
   "metadata": {},
   "outputs": [
    {
     "data": {
      "text/plain": [
       "array([[10, 20],\n",
       "       [50, 60]])"
      ]
     },
     "execution_count": 63,
     "metadata": {},
     "output_type": "execute_result"
    }
   ],
   "source": [
    "arr = np.array([[10, 20, 30, 40],\n",
    "                [50, 60, 70, 80],\n",
    "                [90, 100, 110, 120]])\n",
    "arr[:2,:2]\n"
   ]
  },
  {
   "cell_type": "code",
   "execution_count": 65,
   "id": "5ad68406",
   "metadata": {},
   "outputs": [
    {
     "data": {
      "text/plain": [
       "array([[ 7,  8],\n",
       "       [11, 12]])"
      ]
     },
     "execution_count": 65,
     "metadata": {},
     "output_type": "execute_result"
    }
   ],
   "source": [
    "arr = np.array([[1, 2, 3, 4],\n",
    "                [5, 6, 7, 8],\n",
    "                [9, 10, 11, 12]])\n",
    "arr[-2:,-2:]"
   ]
  },
  {
   "cell_type": "code",
   "execution_count": 67,
   "id": "64ee098e",
   "metadata": {},
   "outputs": [
    {
     "data": {
      "text/plain": [
       "array([200, 400, 500])"
      ]
     },
     "execution_count": 67,
     "metadata": {},
     "output_type": "execute_result"
    }
   ],
   "source": [
    "arr = np.array([100, 200, 300, 400, 500])\n",
    "arr[[1,3,4]]"
   ]
  },
  {
   "cell_type": "code",
   "execution_count": 68,
   "id": "1e8b8d00",
   "metadata": {},
   "outputs": [
    {
     "data": {
      "text/plain": [
       "array([35, 45, 55])"
      ]
     },
     "execution_count": 68,
     "metadata": {},
     "output_type": "execute_result"
    }
   ],
   "source": [
    "arr = np.array([15, 25, 35, 45, 55])\n",
    "arr[arr > 30] "
   ]
  },
  {
   "cell_type": "code",
   "execution_count": 69,
   "id": "721bb7c0",
   "metadata": {},
   "outputs": [
    {
     "data": {
      "text/plain": [
       "array([10, 30, 50])"
      ]
     },
     "execution_count": 69,
     "metadata": {},
     "output_type": "execute_result"
    }
   ],
   "source": [
    "arr = np.array([0, 10, 20, 30, 40, 50, 60])\n",
    "arr[1::2]"
   ]
  },
  {
   "cell_type": "code",
   "execution_count": 77,
   "id": "e3395b5e",
   "metadata": {},
   "outputs": [
    {
     "data": {
      "text/plain": [
       "array([60, 50, 40])"
      ]
     },
     "execution_count": 77,
     "metadata": {},
     "output_type": "execute_result"
    }
   ],
   "source": [
    "arr = np.array([[10, 20, 30],\n",
    "                [40, 50, 60],\n",
    "                [70, 80, 90]])\n",
    "arr[1,::-1]"
   ]
  },
  {
   "cell_type": "code",
   "execution_count": 83,
   "id": "a71b5a7d",
   "metadata": {},
   "outputs": [
    {
     "data": {
      "text/plain": [
       "array([15, 21, 27])"
      ]
     },
     "execution_count": 83,
     "metadata": {},
     "output_type": "execute_result"
    }
   ],
   "source": [
    "arr = np.array([12, 15, 18, 21, 24, 27])\n",
    "arr[(arr % 3 == 0) & ( arr % 6 !=0)]"
   ]
  },
  {
   "cell_type": "code",
   "execution_count": 84,
   "id": "5d53804c",
   "metadata": {},
   "outputs": [
    {
     "data": {
      "text/plain": [
       "array([25, 30, 35, 40, 45])"
      ]
     },
     "execution_count": 84,
     "metadata": {},
     "output_type": "execute_result"
    }
   ],
   "source": [
    "arr = np.array([[5, 10, 15],\n",
    "                [20, 25, 30],\n",
    "                [35, 40, 45]])\n",
    "arr[arr > 20]"
   ]
  },
  {
   "cell_type": "code",
   "execution_count": 85,
   "id": "a92ec968",
   "metadata": {},
   "outputs": [
    {
     "data": {
      "text/plain": [
       "array([12, 18, 24])"
      ]
     },
     "execution_count": 85,
     "metadata": {},
     "output_type": "execute_result"
    }
   ],
   "source": [
    "arr = np.array([[3, 6, 9],\n",
    "                [12, 15, 18],\n",
    "                [21, 24, 27]])\n",
    "arr[(arr % 2 == 0) & (arr > 10)]"
   ]
  },
  {
   "cell_type": "code",
   "execution_count": 87,
   "id": "ad122596",
   "metadata": {},
   "outputs": [
    {
     "name": "stdout",
     "output_type": "stream",
     "text": [
      "[2 4 0 0 0]\n"
     ]
    }
   ],
   "source": [
    "arr = np.array([2, 4, 6, 8, 10])\n",
    "arr[arr > 5] = 0\n",
    "print(arr)"
   ]
  },
  {
   "cell_type": "code",
   "execution_count": 88,
   "id": "e84e4069",
   "metadata": {},
   "outputs": [
    {
     "name": "stdout",
     "output_type": "stream",
     "text": [
      "[[ -1 150  -1]\n",
      " [250  -1 350]\n",
      " [ -1 450  -1]]\n"
     ]
    }
   ],
   "source": [
    "arr = np.array([[100, 150, 200],\n",
    "                [250, 300, 350],\n",
    "                [400, 450, 500]])\n",
    "arr[arr % 100 == 0] = -1\n",
    "print(arr)"
   ]
  },
  {
   "cell_type": "code",
   "execution_count": 89,
   "id": "8992a317",
   "metadata": {},
   "outputs": [
    {
     "data": {
      "text/plain": [
       "array([ 1,  9, 25, 49])"
      ]
     },
     "execution_count": 89,
     "metadata": {},
     "output_type": "execute_result"
    }
   ],
   "source": [
    "arr = np.array([1, 4, 9, 16, 25, 36, 49, 64])\n",
    "arr[(arr % 2 != 0)]"
   ]
  },
  {
   "cell_type": "code",
   "execution_count": 90,
   "id": "ce2dd6a2",
   "metadata": {},
   "outputs": [
    {
     "data": {
      "text/plain": [
       "array([20, 25, 35, 40])"
      ]
     },
     "execution_count": 90,
     "metadata": {},
     "output_type": "execute_result"
    }
   ],
   "source": [
    "arr = np.array([[5, 10, 15],\n",
    "                [20, 25, 30],\n",
    "                [35, 40, 45]])\n",
    "#Task: Select all elements greater than 10 and less than or equal to 40, but exclude any number divisible by 15.\n",
    "arr[(arr > 10) & (arr <= 40) & (arr % 15 != 0)]"
   ]
  },
  {
   "cell_type": "code",
   "execution_count": 107,
   "id": "7b991083",
   "metadata": {},
   "outputs": [
    {
     "data": {
      "text/plain": [
       "array([30, 70, 80, 90])"
      ]
     },
     "execution_count": 107,
     "metadata": {},
     "output_type": "execute_result"
    }
   ],
   "source": [
    "arr = np.array([[10, 20, 30],\n",
    "                [40, 50, 60],\n",
    "                [70, 80, 90]])\n",
    "arr[::2,:][arr[::2,:] > 25]\n"
   ]
  },
  {
   "cell_type": "code",
   "execution_count": 114,
   "id": "98653a4c",
   "metadata": {},
   "outputs": [
    {
     "data": {
      "text/plain": [
       "array([[ 3,  9],\n",
       "       [21, 27]])"
      ]
     },
     "execution_count": 114,
     "metadata": {},
     "output_type": "execute_result"
    }
   ],
   "source": [
    "arr = np.array([[3, 6, 9],\n",
    "                [12, 15, 18],\n",
    "                [21, 24, 27]])\n",
    "arr[::2,::2]"
   ]
  },
  {
   "cell_type": "code",
   "execution_count": 125,
   "id": "158a8335",
   "metadata": {},
   "outputs": [],
   "source": [
    "arr = np.array([\n",
    "        [1, 5, 3, 4],\n",
    "        [2, 8, 7, 6],\n",
    "        [3, 1, 4, 2],\n",
    "        [4, 9, 2, 10]\n",
    "    ])"
   ]
  },
  {
   "cell_type": "code",
   "execution_count": 124,
   "id": "32ceb54b",
   "metadata": {},
   "outputs": [],
   "source": [
    "def column_comparison(arr):\n",
    "    # Compare second column with second last column\n",
    "    condition = arr[:, 1] > arr[:, -2]\n",
    "    return arr[condition]\n",
    "    "
   ]
  },
  {
   "cell_type": "code",
   "execution_count": 127,
   "id": "94564fe6",
   "metadata": {},
   "outputs": [
    {
     "data": {
      "text/plain": [
       "array([[8, 9, 3, 8, 8],\n",
       "       [5, 7, 6, 0, 4],\n",
       "       [7, 8, 1, 6, 2]])"
      ]
     },
     "execution_count": 127,
     "metadata": {},
     "output_type": "execute_result"
    }
   ],
   "source": [
    "data = np.array([\n",
    "    [8, 9, 3, 8, 8],\n",
    "    [0, 5, 3, 9, 9],\n",
    "    [5, 7, 6, 0, 4],\n",
    "    [7, 8, 1, 6, 2],\n",
    "    [2, 1, 3, 5, 8]\n",
    "])\n",
    "column_comparison(data)"
   ]
  },
  {
   "cell_type": "code",
   "execution_count": 128,
   "id": "c982592f",
   "metadata": {},
   "outputs": [
    {
     "data": {
      "text/plain": [
       "array([[8, 9, 3, 8, 8],\n",
       "       [0, 5, 3, 9, 9],\n",
       "       [5, 7, 6, 0, 4],\n",
       "       [7, 8, 1, 6, 2],\n",
       "       [2, 1, 3, 5, 8]])"
      ]
     },
     "execution_count": 128,
     "metadata": {},
     "output_type": "execute_result"
    }
   ],
   "source": [
    "data"
   ]
  },
  {
   "cell_type": "code",
   "execution_count": 129,
   "id": "4a992153",
   "metadata": {},
   "outputs": [
    {
     "data": {
      "text/plain": [
       "array([[0, 5, 3, 9, 9],\n",
       "       [7, 8, 1, 6, 2],\n",
       "       [5, 7, 6, 0, 4]])"
      ]
     },
     "execution_count": 129,
     "metadata": {},
     "output_type": "execute_result"
    }
   ],
   "source": [
    "data[[1,3,2]]"
   ]
  },
  {
   "cell_type": "code",
   "execution_count": null,
   "id": "c0a14bc6",
   "metadata": {},
   "outputs": [],
   "source": []
  }
 ],
 "metadata": {
  "kernelspec": {
   "display_name": ".venv",
   "language": "python",
   "name": "python3"
  },
  "language_info": {
   "codemirror_mode": {
    "name": "ipython",
    "version": 3
   },
   "file_extension": ".py",
   "mimetype": "text/x-python",
   "name": "python",
   "nbconvert_exporter": "python",
   "pygments_lexer": "ipython3",
   "version": "3.9.6"
  }
 },
 "nbformat": 4,
 "nbformat_minor": 5
}
